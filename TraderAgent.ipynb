{
 "cells": [
  {
   "cell_type": "markdown",
   "id": "d14796cb-2122-4c4b-899a-47e3c3acc0ff",
   "metadata": {},
   "source": [
    "Step 1: Import Libraries and Set Up Embeddings"
   ]
  },
  {
   "cell_type": "code",
   "execution_count": 10,
   "id": "ccbffc4e-3c4d-4c4b-b591-47a012172020",
   "metadata": {
    "scrolled": true
   },
   "outputs": [],
   "source": [
    "from langchain_openai import OpenAIEmbeddings\n",
    "from langchain.vectorstores import FAISS\n",
    "from langchain.prompts import PromptTemplate\n",
    "from langchain.llms import OpenAI\n",
    "from langchain.chains import RetrievalQA\n",
    "from langchain.agents import initialize_agent, Tool\n",
    "from langchain.agents import Tool\n",
    "from langchain.schema import AgentAction, AgentFinish\n",
    "import os\n",
    "import os\n",
    "\n",
    "# Set the API key directly\n",
    "os.environ[\"OPENAI_API_KEY\"] = \n",
    "\n",
    "\n",
    "\n",
    "# Load pre-trained embeddings (e.g., OpenAI or other provider)\n",
    "embeddings = OpenAIEmbeddings()\n",
    "\n",
    "# Sample trading strategies embeddings\n",
    "trading_strategies = [\n",
    "    {\"strategy_name\": \"Mean Reversion\", \"description\": \"Buy when the price deviates significantly below its average.\"},\n",
    "    {\"strategy_name\": \"Momentum Trading\", \"description\": \"Buy assets showing upward price momentum.\"},\n",
    "    {\"strategy_name\": \"Arbitrage\", \"description\": \"Exploit price differences between markets or instruments.\"},\n",
    "    # Add more strategies as needed\n",
    "]\n",
    "\n",
    "# Convert descriptions into embeddings\n",
    "texts = [s[\"description\"] for s in trading_strategies]\n",
    "faiss_index = FAISS.from_texts(texts, embeddings)\n"
   ]
  },
  {
   "cell_type": "markdown",
   "id": "95c4f918-9152-4c97-8b4b-00ff317af8fb",
   "metadata": {},
   "source": [
    "Step 2: Define a Custom Tool for Strategy Creation"
   ]
  },
  {
   "cell_type": "code",
   "execution_count": 13,
   "id": "8a574bab-3cc5-48da-95fc-a27bfc92401c",
   "metadata": {},
   "outputs": [],
   "source": [
    "def generate_trading_strategy(input_data: str, similar_strategies: list) -> str:\n",
    "    \"\"\"\n",
    "    Generate a new trading strategy based on user input and similar strategies.\n",
    "    \"\"\"\n",
    "    strategy_base = f\"User Input: {input_data}\\n\\nSimilar Strategies:\\n\"\n",
    "    for idx, strategy in enumerate(similar_strategies):\n",
    "        strategy_base += f\"{idx + 1}. {strategy['strategy_name']}: {strategy['description']}\\n\"\n",
    "    \n",
    "    strategy_base += \"\\nNew Strategy:\\n\"\n",
    "    strategy_base += \"Using the above information, synthesize a unique and practical trading strategy.\"\n",
    "    \n",
    "    return strategy_base\n",
    "\n",
    "\n",
    "def strategy_creation_tool(input_data: dict) -> str:\n",
    "    \"\"\"\n",
    "    Create a trading strategy using user input and similar strategies.\n",
    "    Args:\n",
    "        input_data (dict): Dictionary with \"user_input\" (str) and \"k\" (int, optional).\n",
    "    Returns:\n",
    "        str: A synthesized trading strategy.\n",
    "    \"\"\"\n",
    "    # Validate input data\n",
    "    if not isinstance(input_data, dict):\n",
    "        raise ValueError(\"Input data must be a dictionary.\")\n",
    "    \n",
    "    user_input = input_data.get(\"user_input\", \"\")\n",
    "    k = input_data.get(\"k\", 3)  # Number of similar strategies to consider\n",
    "    \n",
    "    if not user_input:\n",
    "        raise ValueError(\"User input is required.\")\n",
    "    \n",
    "    # Find similar strategies\n",
    "    try:\n",
    "        docs = faiss_index.similarity_search(user_input, k=k)\n",
    "        similar_strategies = [\n",
    "            {\n",
    "                \"strategy_name\": doc.metadata.get(\"strategy_name\", \"Unnamed Strategy\"),\n",
    "                \"description\": doc.page_content,\n",
    "            }\n",
    "            for doc in docs\n",
    "        ]\n",
    "    except Exception as e:\n",
    "        return f\"Error in similarity search: {e}\"\n",
    "    \n",
    "    # Generate the new trading strategy\n",
    "    return generate_trading_strategy(user_input, similar_strategies)\n"
   ]
  },
  {
   "cell_type": "markdown",
   "id": "b5d5d78b-ce34-4da4-8aa1-502a530bde71",
   "metadata": {},
   "source": [
    "Step 3: Integrate the Tool into a LangChain Agent"
   ]
  },
  {
   "cell_type": "code",
   "execution_count": 18,
   "id": "a18250cc-513d-4e2a-bb18-d0ad4046dddd",
   "metadata": {},
   "outputs": [],
   "source": [
    "from langchain.agents import Tool, create_react_agent\n",
    "from langchain.prompts import PromptTemplate\n",
    "from langchain_openai import OpenAI\n",
    "\n",
    "# Define the tool for strategy creation\n",
    "tools = [\n",
    "    Tool(\n",
    "        name=\"Strategy Creation Tool\",\n",
    "        func=strategy_creation_tool,\n",
    "        description=\"Creates a new trading strategy based on user input and embeddings of existing strategies.\",\n",
    "    )\n",
    "]\n",
    "\n",
    "# Initialize the OpenAI language model\n",
    "llm = OpenAI(temperature=0.7)  # Using the updated langchain_openai package\n",
    "\n",
    "# Define a custom prompt for the agent\n",
    "prompt = PromptTemplate(\n",
    "    input_variables=[\"tool_input\", \"agent_scratchpad\", \"tools\", \"tool_names\"],\n",
    "    template=\"\"\"\n",
    "    You are a highly intelligent assistant specialized in creating trading strategies.\n",
    "    Use the tools provided to generate actionable insights.\n",
    "\n",
    "    Available Tools:\n",
    "    {tools}\n",
    "\n",
    "    Tool Names:\n",
    "    {tool_names}\n",
    "\n",
    "    User Input:\n",
    "    {tool_input}\n",
    "\n",
    "    {agent_scratchpad}\n",
    "    \"\"\"\n",
    ")\n",
    "\n",
    "# Create the agent\n",
    "agent_executor = create_react_agent(\n",
    "    tools=tools,\n",
    "    llm=llm,\n",
    "    prompt=prompt\n",
    ")\n",
    "\n",
    "# Define the agent's interface\n",
    "def run_agent(user_input: str, k: int = 3):\n",
    "    tool_input = {\"user_input\": user_input, \"k\": k}\n",
    "    response = agent_executor.run(tool_input)\n",
    "    return response\n"
   ]
  },
  {
   "cell_type": "markdown",
   "id": "6fc740f4-280a-4522-94d2-958b31f19829",
   "metadata": {},
   "source": [
    "Step 4: Example Usage"
   ]
  },
  {
   "cell_type": "code",
   "execution_count": 21,
   "id": "36dad756-4e26-42d7-b725-1081dc98032d",
   "metadata": {},
   "outputs": [
    {
     "name": "stdout",
     "output_type": "stream",
     "text": [
      "Error while running the agent: 'RunnableSequence' object is not callable\n"
     ]
    }
   ],
   "source": [
    "if __name__ == \"__main__\":\n",
    "    # Example user input\n",
    "    user_input = \"I want a trading strategy that minimizes risk and leverages arbitrage opportunities.\"\n",
    "    k = 3  # Number of similar strategies to consider\n",
    "\n",
    "    # Tool input preparation\n",
    "    tool_input = {\"user_input\": user_input, \"k\": k}\n",
    "\n",
    "    # Run the agent\n",
    "    try:\n",
    "        response = agent_executor(tool_input)  # Use agent_executor as callable\n",
    "        print(\"\\nGenerated Trading Strategy:\")\n",
    "        print(response)\n",
    "    except Exception as e:\n",
    "        print(f\"Error while running the agent: {e}\")\n"
   ]
  },
  {
   "cell_type": "code",
   "execution_count": null,
   "id": "4a32ab56-6d09-400d-9511-4f82afd0b4a9",
   "metadata": {},
   "outputs": [],
   "source": []
  }
 ],
 "metadata": {
  "kernelspec": {
   "display_name": "Python 3 (ipykernel)",
   "language": "python",
   "name": "python3"
  },
  "language_info": {
   "codemirror_mode": {
    "name": "ipython",
    "version": 3
   },
   "file_extension": ".py",
   "mimetype": "text/x-python",
   "name": "python",
   "nbconvert_exporter": "python",
   "pygments_lexer": "ipython3",
   "version": "3.11.6"
  }
 },
 "nbformat": 4,
 "nbformat_minor": 5
}
